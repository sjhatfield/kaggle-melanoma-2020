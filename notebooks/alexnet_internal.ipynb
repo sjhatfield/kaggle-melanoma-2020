{
 "cells": [
  {
   "cell_type": "code",
   "execution_count": 1,
   "metadata": {},
   "outputs": [],
   "source": [
    "%reload_ext autoreload\n",
    "%autoreload 2"
   ]
  },
  {
   "cell_type": "code",
   "execution_count": 2,
   "metadata": {},
   "outputs": [],
   "source": [
    "import sys\n",
    "sys.path.append(\"..\")\n",
    "\n",
    "from src.data.prepare_data import *\n",
    "from src.models.model import *\n",
    "import time\n",
    "import random\n",
    "from sklearn.model_selection import KFold\n",
    "from torch import optim\n",
    "from torch.optim.lr_scheduler import ReduceLROnPlateau\n",
    "from torch.utils.data.sampler import WeightedRandomSampler\n",
    "from tqdm import tqdm"
   ]
  },
  {
   "cell_type": "code",
   "execution_count": 3,
   "metadata": {},
   "outputs": [],
   "source": [
    "random.seed(2718)\n",
    "np.random.seed(2718)\n",
    "torch.manual_seed(2718)\n",
    "SEED = 2718"
   ]
  },
  {
   "cell_type": "code",
   "execution_count": 4,
   "metadata": {},
   "outputs": [],
   "source": [
    "train = pd.read_csv(\"../data/internal/train.csv\")\n",
    "test = pd.read_csv(\"../data/internal/test.csv\")\n",
    "sub = pd.read_csv(\"../data/internal/sample_submission.csv\")"
   ]
  },
  {
   "cell_type": "code",
   "execution_count": 17,
   "metadata": {},
   "outputs": [],
   "source": [
    "config = {\n",
    "    'INPUT_DIR'      : '',\n",
    "    'MODEL'          : 'alexnet',\n",
    "    'SIZE'           : 128,\n",
    "    'BATCH_SIZE'     : 128,\n",
    "    'NUM_FOLDS'      : 3,\n",
    "    'NUM_EPOCHS'     : 10,\n",
    "    'FREEZED_EPOCHS' : 3,\n",
    "    'LEARNING_RATE'  : 1e-3,\n",
    "    'EARLY_STOPPING' : 3,\n",
    "    'UNIFORM_AUGMENT': True,\n",
    "    'TTA'            : 3,\n",
    "    'NUM_WORKERS'    : 16,\n",
    "    'DEVICE'         : 'cpu'\n",
    "}"
   ]
  },
  {
   "cell_type": "code",
   "execution_count": 19,
   "metadata": {},
   "outputs": [
    {
     "name": "stderr",
     "output_type": "stream",
     "text": [
      "  0%|          | 0/171 [00:00<?, ?it/s]"
     ]
    },
    {
     "name": "stdout",
     "output_type": "stream",
     "text": [
      "---- fold: 1 ------------\n"
     ]
    },
    {
     "name": "stderr",
     "output_type": "stream",
     "text": [
      "100%|██████████| 171/171 [02:17<00:00,  1.24it/s]\n",
      "  0%|          | 0/171 [00:00<?, ?it/s]"
     ]
    },
    {
     "name": "stdout",
     "output_type": "stream",
     "text": [
      "epoch: 1, loss_train: 0.9565, loss_valid: 0.3698, auc_valid: 0.7127, saved: True, 197.9558sec\n"
     ]
    },
    {
     "name": "stderr",
     "output_type": "stream",
     "text": [
      "100%|██████████| 171/171 [02:15<00:00,  1.26it/s]\n",
      "  0%|          | 0/171 [00:00<?, ?it/s]"
     ]
    },
    {
     "name": "stdout",
     "output_type": "stream",
     "text": [
      "epoch: 2, loss_train: 0.5129, loss_valid: 0.3258, auc_valid: 0.7129, saved: True, 196.5378sec\n"
     ]
    },
    {
     "name": "stderr",
     "output_type": "stream",
     "text": [
      "100%|██████████| 171/171 [02:15<00:00,  1.26it/s]\n",
      "  0%|          | 0/171 [00:00<?, ?it/s]"
     ]
    },
    {
     "name": "stdout",
     "output_type": "stream",
     "text": [
      "epoch: 3, loss_train: 0.4967, loss_valid: 0.3986, auc_valid: 0.7112, saved: False, 195.0844sec\n"
     ]
    },
    {
     "name": "stderr",
     "output_type": "stream",
     "text": [
      "100%|██████████| 171/171 [06:33<00:00,  2.30s/it]\n",
      "  0%|          | 0/171 [00:00<?, ?it/s]"
     ]
    },
    {
     "name": "stdout",
     "output_type": "stream",
     "text": [
      "epoch: 4, loss_train: 0.4401, loss_valid: 0.2136, auc_valid: 0.7541, saved: True, 452.9181sec\n"
     ]
    },
    {
     "name": "stderr",
     "output_type": "stream",
     "text": [
      "100%|██████████| 171/171 [06:21<00:00,  2.23s/it]\n",
      "  0%|          | 0/171 [00:00<?, ?it/s]"
     ]
    },
    {
     "name": "stdout",
     "output_type": "stream",
     "text": [
      "epoch: 5, loss_train: 0.3585, loss_valid: 0.1937, auc_valid: 0.7444, saved: False, 440.3519sec\n"
     ]
    },
    {
     "name": "stderr",
     "output_type": "stream",
     "text": [
      "100%|██████████| 171/171 [06:16<00:00,  2.20s/it]\n",
      "  0%|          | 0/171 [00:00<?, ?it/s]"
     ]
    },
    {
     "name": "stdout",
     "output_type": "stream",
     "text": [
      "epoch: 6, loss_train: 0.3148, loss_valid: 0.1595, auc_valid: 0.7023, saved: False, 435.5674sec\n"
     ]
    },
    {
     "name": "stderr",
     "output_type": "stream",
     "text": [
      "100%|██████████| 171/171 [06:17<00:00,  2.21s/it]\n",
      "  0%|          | 0/171 [00:00<?, ?it/s]"
     ]
    },
    {
     "name": "stdout",
     "output_type": "stream",
     "text": [
      "epoch: 7, loss_train: 0.2838, loss_valid: 0.1813, auc_valid: 0.7723, saved: True, 436.6003sec\n"
     ]
    },
    {
     "name": "stderr",
     "output_type": "stream",
     "text": [
      "100%|██████████| 171/171 [06:16<00:00,  2.20s/it]\n",
      "  0%|          | 0/171 [00:00<?, ?it/s]"
     ]
    },
    {
     "name": "stdout",
     "output_type": "stream",
     "text": [
      "epoch: 8, loss_train: 0.2537, loss_valid: 0.1730, auc_valid: 0.6736, saved: False, 435.4929sec\n"
     ]
    },
    {
     "name": "stderr",
     "output_type": "stream",
     "text": [
      "100%|██████████| 171/171 [06:18<00:00,  2.22s/it]\n",
      "  0%|          | 0/171 [00:00<?, ?it/s]"
     ]
    },
    {
     "name": "stdout",
     "output_type": "stream",
     "text": [
      "epoch: 9, loss_train: 0.2426, loss_valid: 0.1973, auc_valid: 0.7306, saved: False, 437.4067sec\n"
     ]
    },
    {
     "name": "stderr",
     "output_type": "stream",
     "text": [
      "100%|██████████| 171/171 [06:17<00:00,  2.21s/it]\n",
      "  0%|          | 0/3 [00:00<?, ?it/s]"
     ]
    },
    {
     "name": "stdout",
     "output_type": "stream",
     "text": [
      "epoch: 10, loss_train: 0.2298, loss_valid: 0.1600, auc_valid: 0.7474, saved: False, 436.7642sec\n"
     ]
    },
    {
     "name": "stderr",
     "output_type": "stream",
     "text": [
      "100%|██████████| 3/3 [03:35<00:00, 71.81s/it]\n"
     ]
    },
    {
     "name": "stdout",
     "output_type": "stream",
     "text": [
      "fold took 3881.07\n"
     ]
    },
    {
     "name": "stderr",
     "output_type": "stream",
     "text": [
      "  0%|          | 0/171 [00:00<?, ?it/s]"
     ]
    },
    {
     "name": "stdout",
     "output_type": "stream",
     "text": [
      "---- fold: 2 ------------\n"
     ]
    },
    {
     "name": "stderr",
     "output_type": "stream",
     "text": [
      "100%|██████████| 171/171 [02:16<00:00,  1.26it/s]\n",
      "  0%|          | 0/171 [00:00<?, ?it/s]"
     ]
    },
    {
     "name": "stdout",
     "output_type": "stream",
     "text": [
      "epoch: 1, loss_train: 0.9567, loss_valid: 0.5249, auc_valid: 0.7236, saved: True, 196.9148sec\n"
     ]
    },
    {
     "name": "stderr",
     "output_type": "stream",
     "text": [
      "100%|██████████| 171/171 [02:15<00:00,  1.26it/s]\n",
      "  0%|          | 0/171 [00:00<?, ?it/s]"
     ]
    },
    {
     "name": "stdout",
     "output_type": "stream",
     "text": [
      "epoch: 2, loss_train: 0.5271, loss_valid: 0.6315, auc_valid: 0.7291, saved: True, 197.2371sec\n"
     ]
    },
    {
     "name": "stderr",
     "output_type": "stream",
     "text": [
      "100%|██████████| 171/171 [02:14<00:00,  1.27it/s]\n",
      "  0%|          | 0/171 [00:00<?, ?it/s]"
     ]
    },
    {
     "name": "stdout",
     "output_type": "stream",
     "text": [
      "epoch: 3, loss_train: 0.5042, loss_valid: 0.3219, auc_valid: 0.7332, saved: True, 195.6398sec\n"
     ]
    },
    {
     "name": "stderr",
     "output_type": "stream",
     "text": [
      "100%|██████████| 171/171 [06:22<00:00,  2.23s/it]\n",
      "  0%|          | 0/171 [00:00<?, ?it/s]"
     ]
    },
    {
     "name": "stdout",
     "output_type": "stream",
     "text": [
      "epoch: 4, loss_train: 0.4578, loss_valid: 0.2962, auc_valid: 0.7351, saved: True, 442.0249sec\n"
     ]
    },
    {
     "name": "stderr",
     "output_type": "stream",
     "text": [
      "100%|██████████| 171/171 [06:18<00:00,  2.21s/it]\n",
      "  0%|          | 0/171 [00:00<?, ?it/s]"
     ]
    },
    {
     "name": "stdout",
     "output_type": "stream",
     "text": [
      "epoch: 5, loss_train: 0.3657, loss_valid: 0.2112, auc_valid: 0.7512, saved: True, 437.5500sec\n"
     ]
    },
    {
     "name": "stderr",
     "output_type": "stream",
     "text": [
      "100%|██████████| 171/171 [06:12<00:00,  2.18s/it]\n",
      "  0%|          | 0/171 [00:00<?, ?it/s]"
     ]
    },
    {
     "name": "stdout",
     "output_type": "stream",
     "text": [
      "epoch: 6, loss_train: 0.3291, loss_valid: 0.2023, auc_valid: 0.7640, saved: True, 431.5578sec\n"
     ]
    },
    {
     "name": "stderr",
     "output_type": "stream",
     "text": [
      "100%|██████████| 171/171 [06:16<00:00,  2.20s/it]\n",
      "  0%|          | 0/171 [00:00<?, ?it/s]"
     ]
    },
    {
     "name": "stdout",
     "output_type": "stream",
     "text": [
      "epoch: 7, loss_train: 0.2838, loss_valid: 0.1858, auc_valid: 0.7218, saved: False, 434.6012sec\n"
     ]
    },
    {
     "name": "stderr",
     "output_type": "stream",
     "text": [
      "100%|██████████| 171/171 [06:12<00:00,  2.18s/it]\n",
      "  0%|          | 0/171 [00:00<?, ?it/s]"
     ]
    },
    {
     "name": "stdout",
     "output_type": "stream",
     "text": [
      "epoch: 8, loss_train: 0.2673, loss_valid: 0.2080, auc_valid: 0.7577, saved: False, 430.9226sec\n"
     ]
    },
    {
     "name": "stderr",
     "output_type": "stream",
     "text": [
      "100%|██████████| 171/171 [06:12<00:00,  2.18s/it]\n",
      "  0%|          | 0/3 [00:00<?, ?it/s]"
     ]
    },
    {
     "name": "stdout",
     "output_type": "stream",
     "text": [
      "epoch: 9, loss_train: 0.2485, loss_valid: 0.1841, auc_valid: 0.7467, saved: False, 431.5983sec\n"
     ]
    },
    {
     "name": "stderr",
     "output_type": "stream",
     "text": [
      "100%|██████████| 3/3 [03:35<00:00, 71.87s/it]\n"
     ]
    },
    {
     "name": "stdout",
     "output_type": "stream",
     "text": [
      "fold took 3414.97\n"
     ]
    },
    {
     "name": "stderr",
     "output_type": "stream",
     "text": [
      "  0%|          | 0/171 [00:00<?, ?it/s]"
     ]
    },
    {
     "name": "stdout",
     "output_type": "stream",
     "text": [
      "---- fold: 3 ------------\n"
     ]
    },
    {
     "name": "stderr",
     "output_type": "stream",
     "text": [
      "100%|██████████| 171/171 [02:14<00:00,  1.27it/s]\n",
      "  0%|          | 0/171 [00:00<?, ?it/s]"
     ]
    },
    {
     "name": "stdout",
     "output_type": "stream",
     "text": [
      "epoch: 1, loss_train: 0.9615, loss_valid: 0.3615, auc_valid: 0.7382, saved: True, 194.0480sec\n"
     ]
    },
    {
     "name": "stderr",
     "output_type": "stream",
     "text": [
      "100%|██████████| 171/171 [02:12<00:00,  1.29it/s]\n",
      "  0%|          | 0/171 [00:00<?, ?it/s]"
     ]
    },
    {
     "name": "stdout",
     "output_type": "stream",
     "text": [
      "epoch: 2, loss_train: 0.5336, loss_valid: 0.3372, auc_valid: 0.7447, saved: True, 192.9648sec\n"
     ]
    },
    {
     "name": "stderr",
     "output_type": "stream",
     "text": [
      "100%|██████████| 171/171 [02:13<00:00,  1.28it/s]\n",
      "  0%|          | 0/171 [00:00<?, ?it/s]"
     ]
    },
    {
     "name": "stdout",
     "output_type": "stream",
     "text": [
      "epoch: 3, loss_train: 0.5282, loss_valid: 0.4504, auc_valid: 0.7320, saved: False, 192.4415sec\n"
     ]
    },
    {
     "name": "stderr",
     "output_type": "stream",
     "text": [
      "100%|██████████| 171/171 [06:26<00:00,  2.26s/it]\n",
      "  0%|          | 0/171 [00:00<?, ?it/s]"
     ]
    },
    {
     "name": "stdout",
     "output_type": "stream",
     "text": [
      "epoch: 4, loss_train: 0.4646, loss_valid: 0.2137, auc_valid: 0.7361, saved: False, 444.9330sec\n"
     ]
    },
    {
     "name": "stderr",
     "output_type": "stream",
     "text": [
      "100%|██████████| 171/171 [06:25<00:00,  2.25s/it]\n",
      "  0%|          | 0/171 [00:00<?, ?it/s]"
     ]
    },
    {
     "name": "stdout",
     "output_type": "stream",
     "text": [
      "epoch: 5, loss_train: 0.3649, loss_valid: 0.1971, auc_valid: 0.7735, saved: True, 445.3052sec\n"
     ]
    },
    {
     "name": "stderr",
     "output_type": "stream",
     "text": [
      "100%|██████████| 171/171 [06:22<00:00,  2.24s/it]\n",
      "  0%|          | 0/171 [00:00<?, ?it/s]"
     ]
    },
    {
     "name": "stdout",
     "output_type": "stream",
     "text": [
      "epoch: 6, loss_train: 0.3210, loss_valid: 0.2333, auc_valid: 0.7466, saved: False, 441.1519sec\n"
     ]
    },
    {
     "name": "stderr",
     "output_type": "stream",
     "text": [
      "100%|██████████| 171/171 [06:22<00:00,  2.24s/it]\n",
      "  0%|          | 0/171 [00:00<?, ?it/s]"
     ]
    },
    {
     "name": "stdout",
     "output_type": "stream",
     "text": [
      "epoch: 7, loss_train: 0.2893, loss_valid: 0.1493, auc_valid: 0.7615, saved: False, 441.3694sec\n"
     ]
    },
    {
     "name": "stderr",
     "output_type": "stream",
     "text": [
      "100%|██████████| 171/171 [06:22<00:00,  2.23s/it]\n",
      "  0%|          | 0/3 [00:00<?, ?it/s]"
     ]
    },
    {
     "name": "stdout",
     "output_type": "stream",
     "text": [
      "epoch: 8, loss_train: 0.2642, loss_valid: 0.1545, auc_valid: 0.7718, saved: False, 440.7455sec\n"
     ]
    },
    {
     "name": "stderr",
     "output_type": "stream",
     "text": [
      "100%|██████████| 3/3 [03:35<00:00, 71.77s/it]"
     ]
    },
    {
     "name": "stdout",
     "output_type": "stream",
     "text": [
      "fold took 3009.6\n",
      "total time: 10305.6773\n"
     ]
    },
    {
     "name": "stderr",
     "output_type": "stream",
     "text": [
      "\n"
     ]
    }
   ],
   "source": [
    "t = time.time()\n",
    "predictions = pd.DataFrame()\n",
    "transform = ImageTransform(config['SIZE'], config['UNIFORM_AUGMENT'])\n",
    "\n",
    "skf = KFold(n_splits=config['NUM_FOLDS'], shuffle=True, random_state=SEED)\n",
    "for i, (idxT,idxV) in enumerate(skf.split(np.arange(15))):\n",
    "    t_fold = time.time()\n",
    "    tr = train.loc[train.tfrecord.isin(idxT)]\n",
    "    va = train.loc[train.tfrecord.isin(idxV)]\n",
    "    tr.reset_index(drop=True, inplace=True)\n",
    "    va.reset_index(drop=True, inplace=True)\n",
    "\n",
    "    # create datasets\n",
    "    dataset_train = MelanomaDataset(\"../data/internal/train\", tr, transform=transform, phase='train')\n",
    "    dataset_valid = MelanomaDataset(\"../data/internal/train\", va, transform=transform, phase='valid')\n",
    "    \n",
    "    # load a pretrained model\n",
    "    net = load_model(config['MODEL'], 2)\n",
    "\n",
    "    # define a loss function\n",
    "    criterion = nn.CrossEntropyLoss()\n",
    "\n",
    "    # define an optimizer\n",
    "    optimizer = optim.Adam(net.parameters(), lr=config['LEARNING_RATE'])\n",
    "\n",
    "    # define a scheduler\n",
    "    scheduler = ReduceLROnPlateau(optimizer=optimizer, mode='max', patience=2, factor=0.2)\n",
    "\n",
    "    # create a sampler\n",
    "    class_sample_count = np.array([len(np.where(tr['target'] == t)[0]) for t in np.unique(tr['target'])])\n",
    "    weight = 1. / class_sample_count\n",
    "    samples_weight = np.array([weight[t] for t in tr['target']])\n",
    "    sampler = WeightedRandomSampler(samples_weight, len(samples_weight))\n",
    "\n",
    "    # train the network\n",
    "    print(f\"---- fold: {i + 1} ------------\")\n",
    "    train_model(\n",
    "        f\"{config['MODEL']}_{i + 1}\",\n",
    "        dataset_train,\n",
    "        dataset_valid,\n",
    "        config['BATCH_SIZE'],\n",
    "        net,\n",
    "        criterion,\n",
    "        optimizer,\n",
    "        scheduler,\n",
    "        config['NUM_EPOCHS'],\n",
    "        config['FREEZED_EPOCHS'],\n",
    "        config['INPUT_DIR'],\n",
    "        config['NUM_WORKERS'],\n",
    "        sampler,\n",
    "        config['DEVICE'],\n",
    "        config['EARLY_STOPPING']\n",
    "    )\n",
    "\n",
    "    # predict on test dataset\n",
    "    test['target'] = 0\n",
    "    dataset_test = MelanomaDataset(\"../data/internal/test\", test, transform=transform, phase='test')\n",
    "    predictions = get_predictions(dataset_test, \n",
    "                                  config[\"BATCH_SIZE\"], \n",
    "                                  net, \n",
    "                                  config[\"TTA\"], \n",
    "                                  predictions, \n",
    "                                  config[\"DEVICE\"])\n",
    "    predictions.to_csv(f'../submissions/{config[\"MODEL\"]}_fold{i+1}.csv')\n",
    "    print(f\"fold took {round(time.time() - t_fold, 2)}\")\n",
    "    \n",
    "# output\n",
    "sub['target'] = predictions.mean(axis=1)\n",
    "sub.to_csv(f\"../submissions/submission{config['MODEL']}.csv\", index=False)\n",
    "print(f\"total time: {round(time.time() - t, 4)}\")"
   ]
  },
  {
   "cell_type": "markdown",
   "metadata": {},
   "source": [
    "This submission achieved a score of 0.8786"
   ]
  },
  {
   "cell_type": "code",
   "execution_count": null,
   "metadata": {},
   "outputs": [],
   "source": []
  }
 ],
 "metadata": {
  "kernelspec": {
   "display_name": "Python 3",
   "language": "python",
   "name": "python3"
  },
  "language_info": {
   "codemirror_mode": {
    "name": "ipython",
    "version": 3
   },
   "file_extension": ".py",
   "mimetype": "text/x-python",
   "name": "python",
   "nbconvert_exporter": "python",
   "pygments_lexer": "ipython3",
   "version": "3.8.0"
  }
 },
 "nbformat": 4,
 "nbformat_minor": 4
}
