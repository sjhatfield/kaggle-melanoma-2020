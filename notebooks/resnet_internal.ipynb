{
 "cells": [
  {
   "cell_type": "markdown",
   "metadata": {},
   "source": [
    "# Resnet18 Model Using Internal Data"
   ]
  },
  {
   "cell_type": "code",
   "execution_count": 9,
   "metadata": {},
   "outputs": [],
   "source": [
    "%reload_ext autoreload\n",
    "%autoreload 2"
   ]
  },
  {
   "cell_type": "code",
   "execution_count": 1,
   "metadata": {},
   "outputs": [],
   "source": [
    "import sys\n",
    "sys.path.append(\"..\")\n",
    "\n",
    "from src.data.prepare_data import *\n",
    "from src.models.model import *\n",
    "import time\n",
    "import random\n",
    "from sklearn.model_selection import KFold\n",
    "from torch import optim\n",
    "from torch.optim.lr_scheduler import ReduceLROnPlateau\n",
    "from torch.utils.data.sampler import WeightedRandomSampler\n",
    "from tqdm import tqdm"
   ]
  },
  {
   "cell_type": "code",
   "execution_count": 11,
   "metadata": {},
   "outputs": [],
   "source": [
    "SEED = 2718\n",
    "random.seed(SEED)\n",
    "np.random.seed(SEED)\n",
    "torch.manual_seed(SEED)"
   ]
  },
  {
   "cell_type": "code",
   "execution_count": 12,
   "metadata": {},
   "outputs": [],
   "source": [
    "train = pd.read_csv(\"../data/internal/train.csv\")\n",
    "test = pd.read_csv(\"../data/internal/test.csv\")\n",
    "sub = pd.read_csv(\"../data/internal/sample_submission.csv\")"
   ]
  },
  {
   "cell_type": "markdown",
   "metadata": {},
   "source": [
    "This model is large enough that we will need to use smaller images on my local machine."
   ]
  },
  {
   "cell_type": "code",
   "execution_count": 1,
   "metadata": {},
   "outputs": [],
   "source": [
    "config = {\n",
    "    'INPUT_DIR'      : '',\n",
    "    'MODEL'          : 'resnet18',\n",
    "    'SIZE'           : 64,\n",
    "    'BATCH_SIZE'     : 128,\n",
    "    'NUM_FOLDS'      : 3,\n",
    "    'NUM_EPOCHS'     : 10,\n",
    "    'FREEZED_EPOCHS' : 3,\n",
    "    'LEARNING_RATE'  : 1e-3,\n",
    "    'EARLY_STOPPING' : 3,\n",
    "    'UNIFORM_AUGMENT': True,\n",
    "    'TTA'            : 3,\n",
    "    'NUM_WORKERS'    : 16,\n",
    "    'DEVICE'         : 'cpu'\n",
    "}"
   ]
  },
  {
   "cell_type": "code",
   "execution_count": 14,
   "metadata": {},
   "outputs": [
    {
     "name": "stderr",
     "output_type": "stream",
     "text": [
      "  0%|          | 0/171 [00:00<?, ?it/s]"
     ]
    },
    {
     "name": "stdout",
     "output_type": "stream",
     "text": [
      "---- fold: 1 ------------\n"
     ]
    },
    {
     "name": "stderr",
     "output_type": "stream",
     "text": [
      "100%|██████████| 171/171 [01:46<00:00,  1.60it/s]\n",
      "  0%|          | 0/171 [00:00<?, ?it/s]"
     ]
    },
    {
     "name": "stdout",
     "output_type": "stream",
     "text": [
      "epoch: 1, loss_train: 0.6177, loss_valid: 0.7451, auc_valid: 0.6298, saved: True, 263.2864sec\n"
     ]
    },
    {
     "name": "stderr",
     "output_type": "stream",
     "text": [
      "100%|██████████| 171/171 [01:46<00:00,  1.61it/s]\n",
      "  0%|          | 0/171 [00:00<?, ?it/s]"
     ]
    },
    {
     "name": "stdout",
     "output_type": "stream",
     "text": [
      "epoch: 2, loss_train: 0.5645, loss_valid: 0.4911, auc_valid: 0.6216, saved: False, 266.4205sec\n"
     ]
    },
    {
     "name": "stderr",
     "output_type": "stream",
     "text": [
      "100%|██████████| 171/171 [01:46<00:00,  1.61it/s]\n",
      "  0%|          | 0/171 [00:00<?, ?it/s]"
     ]
    },
    {
     "name": "stdout",
     "output_type": "stream",
     "text": [
      "epoch: 3, loss_train: 0.5553, loss_valid: 0.7409, auc_valid: 0.6421, saved: True, 264.1759sec\n"
     ]
    },
    {
     "name": "stderr",
     "output_type": "stream",
     "text": [
      "100%|██████████| 171/171 [06:19<00:00,  2.22s/it]\n",
      "  0%|          | 0/171 [00:00<?, ?it/s]"
     ]
    },
    {
     "name": "stdout",
     "output_type": "stream",
     "text": [
      "epoch: 4, loss_train: 0.4195, loss_valid: 0.2142, auc_valid: 0.7652, saved: True, 540.1089sec\n"
     ]
    },
    {
     "name": "stderr",
     "output_type": "stream",
     "text": [
      "100%|██████████| 171/171 [06:10<00:00,  2.17s/it]\n",
      "  0%|          | 0/171 [00:00<?, ?it/s]"
     ]
    },
    {
     "name": "stdout",
     "output_type": "stream",
     "text": [
      "epoch: 5, loss_train: 0.3034, loss_valid: 0.1389, auc_valid: 0.7820, saved: True, 531.7220sec\n"
     ]
    },
    {
     "name": "stderr",
     "output_type": "stream",
     "text": [
      "100%|██████████| 171/171 [06:15<00:00,  2.19s/it]\n",
      "  0%|          | 0/171 [00:00<?, ?it/s]"
     ]
    },
    {
     "name": "stdout",
     "output_type": "stream",
     "text": [
      "epoch: 6, loss_train: 0.2397, loss_valid: 0.1000, auc_valid: 0.7692, saved: False, 535.6119sec\n"
     ]
    },
    {
     "name": "stderr",
     "output_type": "stream",
     "text": [
      "100%|██████████| 171/171 [06:17<00:00,  2.21s/it]\n",
      "  0%|          | 0/171 [00:00<?, ?it/s]"
     ]
    },
    {
     "name": "stdout",
     "output_type": "stream",
     "text": [
      "epoch: 7, loss_train: 0.2148, loss_valid: 0.1062, auc_valid: 0.7746, saved: False, 537.1817sec\n"
     ]
    },
    {
     "name": "stderr",
     "output_type": "stream",
     "text": [
      "100%|██████████| 171/171 [06:15<00:00,  2.19s/it]\n",
      "  0%|          | 0/3 [00:00<?, ?it/s]"
     ]
    },
    {
     "name": "stdout",
     "output_type": "stream",
     "text": [
      "epoch: 8, loss_train: 0.1879, loss_valid: 0.0939, auc_valid: 0.7424, saved: False, 532.2943sec\n"
     ]
    },
    {
     "name": "stderr",
     "output_type": "stream",
     "text": [
      "100%|██████████| 3/3 [02:55<00:00, 58.66s/it]\n"
     ]
    },
    {
     "name": "stdout",
     "output_type": "stream",
     "text": [
      "fold took 3647.13\n"
     ]
    },
    {
     "name": "stderr",
     "output_type": "stream",
     "text": [
      "  0%|          | 0/171 [00:00<?, ?it/s]"
     ]
    },
    {
     "name": "stdout",
     "output_type": "stream",
     "text": [
      "---- fold: 2 ------------\n"
     ]
    },
    {
     "name": "stderr",
     "output_type": "stream",
     "text": [
      "100%|██████████| 171/171 [01:46<00:00,  1.61it/s]\n",
      "  0%|          | 0/171 [00:00<?, ?it/s]"
     ]
    },
    {
     "name": "stdout",
     "output_type": "stream",
     "text": [
      "epoch: 1, loss_train: 0.6172, loss_valid: 0.6249, auc_valid: 0.5511, saved: True, 262.4380sec\n"
     ]
    },
    {
     "name": "stderr",
     "output_type": "stream",
     "text": [
      "100%|██████████| 171/171 [01:46<00:00,  1.61it/s]\n",
      "  0%|          | 0/171 [00:00<?, ?it/s]"
     ]
    },
    {
     "name": "stdout",
     "output_type": "stream",
     "text": [
      "epoch: 2, loss_train: 0.5719, loss_valid: 0.5374, auc_valid: 0.5527, saved: True, 262.5735sec\n"
     ]
    },
    {
     "name": "stderr",
     "output_type": "stream",
     "text": [
      "100%|██████████| 171/171 [01:45<00:00,  1.62it/s]\n",
      "  0%|          | 0/171 [00:00<?, ?it/s]"
     ]
    },
    {
     "name": "stdout",
     "output_type": "stream",
     "text": [
      "epoch: 3, loss_train: 0.5631, loss_valid: 0.6566, auc_valid: 0.5791, saved: True, 262.4538sec\n"
     ]
    },
    {
     "name": "stderr",
     "output_type": "stream",
     "text": [
      "100%|██████████| 171/171 [06:15<00:00,  2.20s/it]\n",
      "  0%|          | 0/171 [00:00<?, ?it/s]"
     ]
    },
    {
     "name": "stdout",
     "output_type": "stream",
     "text": [
      "epoch: 4, loss_train: 0.4248, loss_valid: 0.2146, auc_valid: 0.7759, saved: True, 537.1153sec\n"
     ]
    },
    {
     "name": "stderr",
     "output_type": "stream",
     "text": [
      "100%|██████████| 171/171 [06:15<00:00,  2.20s/it]\n",
      "  0%|          | 0/171 [00:00<?, ?it/s]"
     ]
    },
    {
     "name": "stdout",
     "output_type": "stream",
     "text": [
      "epoch: 5, loss_train: 0.3140, loss_valid: 0.1578, auc_valid: 0.7857, saved: True, 533.1503sec\n"
     ]
    },
    {
     "name": "stderr",
     "output_type": "stream",
     "text": [
      "100%|██████████| 171/171 [06:15<00:00,  2.19s/it]\n",
      "  0%|          | 0/171 [00:00<?, ?it/s]"
     ]
    },
    {
     "name": "stdout",
     "output_type": "stream",
     "text": [
      "epoch: 6, loss_train: 0.2597, loss_valid: 0.1216, auc_valid: 0.7944, saved: True, 535.1929sec\n"
     ]
    },
    {
     "name": "stderr",
     "output_type": "stream",
     "text": [
      "100%|██████████| 171/171 [06:08<00:00,  2.15s/it]\n",
      "  0%|          | 0/171 [00:00<?, ?it/s]"
     ]
    },
    {
     "name": "stdout",
     "output_type": "stream",
     "text": [
      "epoch: 7, loss_train: 0.2238, loss_valid: 0.0856, auc_valid: 0.7820, saved: False, 527.7592sec\n"
     ]
    },
    {
     "name": "stderr",
     "output_type": "stream",
     "text": [
      "100%|██████████| 171/171 [06:13<00:00,  2.18s/it]\n",
      "  0%|          | 0/171 [00:00<?, ?it/s]"
     ]
    },
    {
     "name": "stdout",
     "output_type": "stream",
     "text": [
      "epoch: 8, loss_train: 0.1956, loss_valid: 0.0845, auc_valid: 0.7544, saved: False, 533.5135sec\n"
     ]
    },
    {
     "name": "stderr",
     "output_type": "stream",
     "text": [
      "100%|██████████| 171/171 [06:08<00:00,  2.16s/it]\n",
      "  0%|          | 0/3 [00:00<?, ?it/s]"
     ]
    },
    {
     "name": "stdout",
     "output_type": "stream",
     "text": [
      "epoch: 9, loss_train: 0.1802, loss_valid: 0.0887, auc_valid: 0.7871, saved: False, 530.1619sec\n"
     ]
    },
    {
     "name": "stderr",
     "output_type": "stream",
     "text": [
      "100%|██████████| 3/3 [02:53<00:00, 58.00s/it]\n"
     ]
    },
    {
     "name": "stdout",
     "output_type": "stream",
     "text": [
      "fold took 4158.68\n"
     ]
    },
    {
     "name": "stderr",
     "output_type": "stream",
     "text": [
      "  0%|          | 0/171 [00:00<?, ?it/s]"
     ]
    },
    {
     "name": "stdout",
     "output_type": "stream",
     "text": [
      "---- fold: 3 ------------\n"
     ]
    },
    {
     "name": "stderr",
     "output_type": "stream",
     "text": [
      "100%|██████████| 171/171 [01:45<00:00,  1.62it/s]\n",
      "  0%|          | 0/171 [00:00<?, ?it/s]"
     ]
    },
    {
     "name": "stdout",
     "output_type": "stream",
     "text": [
      "epoch: 1, loss_train: 0.6232, loss_valid: 0.7473, auc_valid: 0.7471, saved: True, 262.0759sec\n"
     ]
    },
    {
     "name": "stderr",
     "output_type": "stream",
     "text": [
      "100%|██████████| 171/171 [01:45<00:00,  1.61it/s]\n",
      "  0%|          | 0/171 [00:00<?, ?it/s]"
     ]
    },
    {
     "name": "stdout",
     "output_type": "stream",
     "text": [
      "epoch: 2, loss_train: 0.5767, loss_valid: 0.4989, auc_valid: 0.7505, saved: True, 263.6234sec\n"
     ]
    },
    {
     "name": "stderr",
     "output_type": "stream",
     "text": [
      "100%|██████████| 171/171 [01:45<00:00,  1.62it/s]\n",
      "  0%|          | 0/171 [00:00<?, ?it/s]"
     ]
    },
    {
     "name": "stdout",
     "output_type": "stream",
     "text": [
      "epoch: 3, loss_train: 0.5721, loss_valid: 0.6651, auc_valid: 0.7739, saved: True, 261.5982sec\n"
     ]
    },
    {
     "name": "stderr",
     "output_type": "stream",
     "text": [
      "100%|██████████| 171/171 [06:15<00:00,  2.19s/it]\n",
      "  0%|          | 0/171 [00:00<?, ?it/s]"
     ]
    },
    {
     "name": "stdout",
     "output_type": "stream",
     "text": [
      "epoch: 4, loss_train: 0.4232, loss_valid: 0.1581, auc_valid: 0.8345, saved: True, 539.0603sec\n"
     ]
    },
    {
     "name": "stderr",
     "output_type": "stream",
     "text": [
      "100%|██████████| 171/171 [06:14<00:00,  2.19s/it]\n",
      "  0%|          | 0/171 [00:00<?, ?it/s]"
     ]
    },
    {
     "name": "stdout",
     "output_type": "stream",
     "text": [
      "epoch: 5, loss_train: 0.3109, loss_valid: 0.1192, auc_valid: 0.8258, saved: False, 537.3359sec\n"
     ]
    },
    {
     "name": "stderr",
     "output_type": "stream",
     "text": [
      "100%|██████████| 171/171 [06:10<00:00,  2.17s/it]\n",
      "  0%|          | 0/171 [00:00<?, ?it/s]"
     ]
    },
    {
     "name": "stdout",
     "output_type": "stream",
     "text": [
      "epoch: 6, loss_train: 0.2520, loss_valid: 0.1387, auc_valid: 0.8292, saved: False, 530.0907sec\n"
     ]
    },
    {
     "name": "stderr",
     "output_type": "stream",
     "text": [
      "100%|██████████| 171/171 [06:13<00:00,  2.19s/it]\n",
      "  0%|          | 0/171 [00:00<?, ?it/s]"
     ]
    },
    {
     "name": "stdout",
     "output_type": "stream",
     "text": [
      "epoch: 7, loss_train: 0.2165, loss_valid: 0.0986, auc_valid: 0.8406, saved: True, 533.7357sec\n"
     ]
    },
    {
     "name": "stderr",
     "output_type": "stream",
     "text": [
      "100%|██████████| 171/171 [06:10<00:00,  2.17s/it]\n",
      "  0%|          | 0/171 [00:00<?, ?it/s]"
     ]
    },
    {
     "name": "stdout",
     "output_type": "stream",
     "text": [
      "epoch: 8, loss_train: 0.1966, loss_valid: 0.0910, auc_valid: 0.8064, saved: False, 529.8735sec\n"
     ]
    },
    {
     "name": "stderr",
     "output_type": "stream",
     "text": [
      "100%|██████████| 171/171 [06:31<00:00,  2.29s/it]\n",
      "  0%|          | 0/171 [00:00<?, ?it/s]"
     ]
    },
    {
     "name": "stdout",
     "output_type": "stream",
     "text": [
      "epoch: 9, loss_train: 0.1715, loss_valid: 0.0878, auc_valid: 0.8281, saved: False, 575.6141sec\n"
     ]
    },
    {
     "name": "stderr",
     "output_type": "stream",
     "text": [
      "100%|██████████| 171/171 [06:40<00:00,  2.34s/it]\n",
      "  0%|          | 0/3 [00:00<?, ?it/s]"
     ]
    },
    {
     "name": "stdout",
     "output_type": "stream",
     "text": [
      "epoch: 10, loss_train: 0.1596, loss_valid: 0.0931, auc_valid: 0.7748, saved: False, 576.2096sec\n"
     ]
    },
    {
     "name": "stderr",
     "output_type": "stream",
     "text": [
      "100%|██████████| 3/3 [03:07<00:00, 62.38s/it]"
     ]
    },
    {
     "name": "stdout",
     "output_type": "stream",
     "text": [
      "fold took 4796.69\n",
      "total time: 12602.5304\n"
     ]
    },
    {
     "name": "stderr",
     "output_type": "stream",
     "text": [
      "\n"
     ]
    }
   ],
   "source": [
    "t = time.time()\n",
    "predictions = pd.DataFrame()\n",
    "transform = ImageTransform(config['SIZE'], config['UNIFORM_AUGMENT'])\n",
    "\n",
    "skf = KFold(n_splits=config['NUM_FOLDS'], shuffle=True, random_state=SEED)\n",
    "for i, (idxT,idxV) in enumerate(skf.split(np.arange(15))):\n",
    "    t_fold = time.time()\n",
    "    tr = train.loc[train.tfrecord.isin(idxT)]\n",
    "    va = train.loc[train.tfrecord.isin(idxV)]\n",
    "    tr.reset_index(drop=True, inplace=True)\n",
    "    va.reset_index(drop=True, inplace=True)\n",
    "\n",
    "    # create datasets\n",
    "    dataset_train = MelanomaDataset(\"../data/internal/train\", tr, transform=transform, phase='train')\n",
    "    dataset_valid = MelanomaDataset(\"../data/internal/train\", va, transform=transform, phase='valid')\n",
    "    \n",
    "    # load a pretrained model\n",
    "    net = load_model(config['MODEL'], 2)\n",
    "\n",
    "    # define a loss function\n",
    "    criterion = nn.CrossEntropyLoss()\n",
    "\n",
    "    # define an optimizer\n",
    "    optimizer = optim.Adam(net.parameters(), lr=config['LEARNING_RATE'])\n",
    "\n",
    "    # define a scheduler\n",
    "    scheduler = ReduceLROnPlateau(optimizer=optimizer, mode='max', patience=2, factor=0.2)\n",
    "\n",
    "    # create a sampler\n",
    "    sampler = create_weighted_random_sampler(tr)\n",
    "\n",
    "    # train the network\n",
    "    print(f\"---- fold: {i + 1} ------------\")\n",
    "    train_model(\n",
    "        f\"{config['MODEL']}_{i + 1}\",\n",
    "        dataset_train,\n",
    "        dataset_valid,\n",
    "        config['BATCH_SIZE'],\n",
    "        net,\n",
    "        criterion,\n",
    "        optimizer,\n",
    "        scheduler,\n",
    "        config['NUM_EPOCHS'],\n",
    "        config['FREEZED_EPOCHS'],\n",
    "        config['INPUT_DIR'],\n",
    "        config['NUM_WORKERS'],\n",
    "        sampler,\n",
    "        config['DEVICE'],\n",
    "        config['EARLY_STOPPING']\n",
    "    )\n",
    "\n",
    "    # predict on test dataset\n",
    "    test['target'] = 0\n",
    "    dataset_test = MelanomaDataset(\"../data/internal/test\", test, transform=transform, phase='test')\n",
    "    predictions = get_predictions(dataset_test, \n",
    "                                  config[\"BATCH_SIZE\"], \n",
    "                                  net, \n",
    "                                  config[\"TTA\"], \n",
    "                                  predictions, \n",
    "                                  config[\"DEVICE\"])\n",
    "    predictions.to_csv(f'../submissions/{config[\"MODEL\"]}_fold{i+1}.csv')\n",
    "    print(f\"fold took {round(time.time() - t_fold, 2)}\")\n",
    "    \n",
    "# output\n",
    "sub['target'] = predictions.mean(axis=1)\n",
    "sub.to_csv(f\"../submissions/submission{config['MODEL']}.csv\", index=False)\n",
    "print(f\"total time: {round(time.time() - t, 4)}\")"
   ]
  },
  {
   "cell_type": "markdown",
   "metadata": {},
   "source": [
    "This submission using only 64x64 images and a ResNet18 architecture scored 0.8780"
   ]
  },
  {
   "cell_type": "code",
   "execution_count": null,
   "metadata": {},
   "outputs": [],
   "source": []
  }
 ],
 "metadata": {
  "kernelspec": {
   "display_name": "Python 3",
   "language": "python",
   "name": "python3"
  },
  "language_info": {
   "codemirror_mode": {
    "name": "ipython",
    "version": 3
   },
   "file_extension": ".py",
   "mimetype": "text/x-python",
   "name": "python",
   "nbconvert_exporter": "python",
   "pygments_lexer": "ipython3",
   "version": "3.8.0"
  }
 },
 "nbformat": 4,
 "nbformat_minor": 4
}
