{
 "cells": [
  {
   "cell_type": "code",
   "execution_count": 1,
   "metadata": {},
   "outputs": [],
   "source": [
    "%reload_ext autoreload\n",
    "%autoreload 2"
   ]
  },
  {
   "cell_type": "code",
   "execution_count": 2,
   "metadata": {},
   "outputs": [],
   "source": [
    "import sys\n",
    "sys.path.append(\"..\")\n",
    "\n",
    "from src.data.prepare_data import *\n",
    "from src.models.model import *\n",
    "import time\n",
    "import random\n",
    "from sklearn.model_selection import KFold\n",
    "from torch import optim\n",
    "from torch.optim.lr_scheduler import ReduceLROnPlateau\n",
    "from torch.utils.data.sampler import WeightedRandomSampler\n",
    "from tqdm import tqdm"
   ]
  },
  {
   "cell_type": "code",
   "execution_count": 3,
   "metadata": {},
   "outputs": [],
   "source": [
    "random.seed(2718)\n",
    "np.random.seed(2718)\n",
    "torch.manual_seed(2718)\n",
    "SEED = 2718"
   ]
  },
  {
   "cell_type": "code",
   "execution_count": 4,
   "metadata": {},
   "outputs": [],
   "source": [
    "train = pd.read_csv(\"../data/internal/train.csv\")\n",
    "test = pd.read_csv(\"../data/internal/test.csv\")\n",
    "train_ext = pd.read_csv('../data/external/train.csv')\n",
    "sub = pd.read_csv(\"../data/internal/sample_submission.csv\")\n",
    "\n",
    "train_ext['tfrecord'] += 20\n",
    "train = pd.concat([train, train_ext], axis=0, ignore_index=True)"
   ]
  },
  {
   "cell_type": "code",
   "execution_count": 5,
   "metadata": {},
   "outputs": [],
   "source": [
    "config = {\n",
    "    'INPUT_DIR'      : '',\n",
    "    'MODEL'          : 'alexnet',\n",
    "    'SIZE'           : 128,\n",
    "    'BATCH_SIZE'     : 32,\n",
    "    'NUM_FOLDS'      : 3,\n",
    "    'NUM_EPOCHS'     : 20,\n",
    "    'FREEZED_EPOCHS' : 3,\n",
    "    'LEARNING_RATE'  : 1e-3,\n",
    "    'EARLY_STOPPING' : 20,\n",
    "    'UNIFORM_AUGMENT': True,\n",
    "    'TTA'            : 3,\n",
    "    'NUM_WORKERS'    : 16,\n",
    "    'DEVICE'         : 'cpu'\n",
    "}"
   ]
  },
  {
   "cell_type": "code",
   "execution_count": 6,
   "metadata": {},
   "outputs": [
    {
     "name": "stderr",
     "output_type": "stream",
     "text": [
      "  0%|          | 0/1471 [00:00<?, ?it/s]"
     ]
    },
    {
     "name": "stdout",
     "output_type": "stream",
     "text": [
      "---- fold: 1 ------------\n"
     ]
    },
    {
     "name": "stderr",
     "output_type": "stream",
     "text": [
      "100%|██████████| 1471/1471 [06:29<00:00,  3.77it/s]\n",
      "  0%|          | 0/1471 [00:00<?, ?it/s]"
     ]
    },
    {
     "name": "stdout",
     "output_type": "stream",
     "text": [
      "epoch: 1, loss_train: 0.7134, loss_valid: 0.3265, auc_valid: 0.6973, saved: True, 461.3580sec\n"
     ]
    },
    {
     "name": "stderr",
     "output_type": "stream",
     "text": [
      "100%|██████████| 1471/1471 [06:26<00:00,  3.81it/s]\n",
      "  0%|          | 0/1471 [00:00<?, ?it/s]"
     ]
    },
    {
     "name": "stdout",
     "output_type": "stream",
     "text": [
      "epoch: 2, loss_train: 0.6688, loss_valid: 0.4668, auc_valid: 0.7240, saved: True, 457.5376sec\n"
     ]
    },
    {
     "name": "stderr",
     "output_type": "stream",
     "text": [
      "100%|██████████| 1471/1471 [06:26<00:00,  3.81it/s]\n",
      "  0%|          | 0/1471 [00:00<?, ?it/s]"
     ]
    },
    {
     "name": "stdout",
     "output_type": "stream",
     "text": [
      "epoch: 3, loss_train: 0.6583, loss_valid: 0.1878, auc_valid: 0.7041, saved: False, 456.8285sec\n"
     ]
    },
    {
     "name": "stderr",
     "output_type": "stream",
     "text": [
      "100%|██████████| 1471/1471 [25:31<00:00,  1.04s/it]\n",
      "  0%|          | 0/1471 [00:00<?, ?it/s]"
     ]
    },
    {
     "name": "stdout",
     "output_type": "stream",
     "text": [
      "epoch: 4, loss_train: 0.4921, loss_valid: 0.1371, auc_valid: 0.6773, saved: False, 1599.7361sec\n"
     ]
    },
    {
     "name": "stderr",
     "output_type": "stream",
     "text": [
      "100%|██████████| 1471/1471 [27:06<00:00,  1.11s/it]\n",
      "  0%|          | 0/1471 [00:00<?, ?it/s]"
     ]
    },
    {
     "name": "stdout",
     "output_type": "stream",
     "text": [
      "epoch: 5, loss_train: 0.4489, loss_valid: 0.1742, auc_valid: 0.3867, saved: False, 1693.9566sec\n"
     ]
    },
    {
     "name": "stderr",
     "output_type": "stream",
     "text": [
      " 94%|█████████▍| 1380/1471 [26:39<01:45,  1.16s/it]\n"
     ]
    },
    {
     "ename": "KeyboardInterrupt",
     "evalue": "",
     "output_type": "error",
     "traceback": [
      "\u001b[0;31m---------------------------------------------------------------------------\u001b[0m",
      "\u001b[0;31mKeyboardInterrupt\u001b[0m                         Traceback (most recent call last)",
      "\u001b[0;32m<ipython-input-6-3c498d4fd526>\u001b[0m in \u001b[0;36m<module>\u001b[0;34m\u001b[0m\n\u001b[1;32m     36\u001b[0m     \u001b[0;31m# train the network\u001b[0m\u001b[0;34m\u001b[0m\u001b[0;34m\u001b[0m\u001b[0;34m\u001b[0m\u001b[0m\n\u001b[1;32m     37\u001b[0m     \u001b[0mprint\u001b[0m\u001b[0;34m(\u001b[0m\u001b[0;34mf\"---- fold: {i + 1} ------------\"\u001b[0m\u001b[0;34m)\u001b[0m\u001b[0;34m\u001b[0m\u001b[0;34m\u001b[0m\u001b[0m\n\u001b[0;32m---> 38\u001b[0;31m     train_model(\n\u001b[0m\u001b[1;32m     39\u001b[0m         \u001b[0;34mf\"{config['MODEL']}_{i + 1}\"\u001b[0m\u001b[0;34m,\u001b[0m\u001b[0;34m\u001b[0m\u001b[0;34m\u001b[0m\u001b[0m\n\u001b[1;32m     40\u001b[0m         \u001b[0mdataset_train\u001b[0m\u001b[0;34m,\u001b[0m\u001b[0;34m\u001b[0m\u001b[0;34m\u001b[0m\u001b[0m\n",
      "\u001b[0;32m~/Desktop/kaggle-melanoma-2020/src/models/model.py\u001b[0m in \u001b[0;36mtrain_model\u001b[0;34m(model_id, dataset_train, dataset_valid, batch_size, model, criterion, optimizer, scheduler, num_epochs, freezed_epochs, base_dir, num_workers, sampler, device, early_stopping)\u001b[0m\n\u001b[1;32m    212\u001b[0m             \u001b[0mloss\u001b[0m \u001b[0;34m=\u001b[0m \u001b[0mcriterion\u001b[0m\u001b[0;34m(\u001b[0m\u001b[0moutputs\u001b[0m\u001b[0;34m,\u001b[0m \u001b[0mlabels\u001b[0m\u001b[0;34m)\u001b[0m\u001b[0;34m\u001b[0m\u001b[0;34m\u001b[0m\u001b[0m\n\u001b[1;32m    213\u001b[0m             \u001b[0mloss\u001b[0m\u001b[0;34m.\u001b[0m\u001b[0mbackward\u001b[0m\u001b[0;34m(\u001b[0m\u001b[0;34m)\u001b[0m\u001b[0;34m\u001b[0m\u001b[0;34m\u001b[0m\u001b[0m\n\u001b[0;32m--> 214\u001b[0;31m             \u001b[0moptimizer\u001b[0m\u001b[0;34m.\u001b[0m\u001b[0mstep\u001b[0m\u001b[0;34m(\u001b[0m\u001b[0;34m)\u001b[0m\u001b[0;34m\u001b[0m\u001b[0;34m\u001b[0m\u001b[0m\n\u001b[0m\u001b[1;32m    215\u001b[0m             \u001b[0mlosses\u001b[0m\u001b[0;34m.\u001b[0m\u001b[0mupdate\u001b[0m\u001b[0;34m(\u001b[0m\u001b[0mloss\u001b[0m\u001b[0;34m.\u001b[0m\u001b[0mitem\u001b[0m\u001b[0;34m(\u001b[0m\u001b[0;34m)\u001b[0m\u001b[0;34m,\u001b[0m \u001b[0minputs\u001b[0m\u001b[0;34m.\u001b[0m\u001b[0msize\u001b[0m\u001b[0;34m(\u001b[0m\u001b[0;36m0\u001b[0m\u001b[0;34m)\u001b[0m\u001b[0;34m)\u001b[0m\u001b[0;34m\u001b[0m\u001b[0;34m\u001b[0m\u001b[0m\n\u001b[1;32m    216\u001b[0m \u001b[0;34m\u001b[0m\u001b[0m\n",
      "\u001b[0;32m~/Desktop/kaggle-melanoma-2020/lib/python3.8/site-packages/torch/autograd/grad_mode.py\u001b[0m in \u001b[0;36mdecorate_context\u001b[0;34m(*args, **kwargs)\u001b[0m\n\u001b[1;32m     13\u001b[0m         \u001b[0;32mdef\u001b[0m \u001b[0mdecorate_context\u001b[0m\u001b[0;34m(\u001b[0m\u001b[0;34m*\u001b[0m\u001b[0margs\u001b[0m\u001b[0;34m,\u001b[0m \u001b[0;34m**\u001b[0m\u001b[0mkwargs\u001b[0m\u001b[0;34m)\u001b[0m\u001b[0;34m:\u001b[0m\u001b[0;34m\u001b[0m\u001b[0;34m\u001b[0m\u001b[0m\n\u001b[1;32m     14\u001b[0m             \u001b[0;32mwith\u001b[0m \u001b[0mself\u001b[0m\u001b[0;34m:\u001b[0m\u001b[0;34m\u001b[0m\u001b[0;34m\u001b[0m\u001b[0m\n\u001b[0;32m---> 15\u001b[0;31m                 \u001b[0;32mreturn\u001b[0m \u001b[0mfunc\u001b[0m\u001b[0;34m(\u001b[0m\u001b[0;34m*\u001b[0m\u001b[0margs\u001b[0m\u001b[0;34m,\u001b[0m \u001b[0;34m**\u001b[0m\u001b[0mkwargs\u001b[0m\u001b[0;34m)\u001b[0m\u001b[0;34m\u001b[0m\u001b[0;34m\u001b[0m\u001b[0m\n\u001b[0m\u001b[1;32m     16\u001b[0m         \u001b[0;32mreturn\u001b[0m \u001b[0mdecorate_context\u001b[0m\u001b[0;34m\u001b[0m\u001b[0;34m\u001b[0m\u001b[0m\n\u001b[1;32m     17\u001b[0m \u001b[0;34m\u001b[0m\u001b[0m\n",
      "\u001b[0;32m~/Desktop/kaggle-melanoma-2020/lib/python3.8/site-packages/torch/optim/adam.py\u001b[0m in \u001b[0;36mstep\u001b[0;34m(self, closure)\u001b[0m\n\u001b[1;32m    105\u001b[0m                     \u001b[0mdenom\u001b[0m \u001b[0;34m=\u001b[0m \u001b[0;34m(\u001b[0m\u001b[0mmax_exp_avg_sq\u001b[0m\u001b[0;34m.\u001b[0m\u001b[0msqrt\u001b[0m\u001b[0;34m(\u001b[0m\u001b[0;34m)\u001b[0m \u001b[0;34m/\u001b[0m \u001b[0mmath\u001b[0m\u001b[0;34m.\u001b[0m\u001b[0msqrt\u001b[0m\u001b[0;34m(\u001b[0m\u001b[0mbias_correction2\u001b[0m\u001b[0;34m)\u001b[0m\u001b[0;34m)\u001b[0m\u001b[0;34m.\u001b[0m\u001b[0madd_\u001b[0m\u001b[0;34m(\u001b[0m\u001b[0mgroup\u001b[0m\u001b[0;34m[\u001b[0m\u001b[0;34m'eps'\u001b[0m\u001b[0;34m]\u001b[0m\u001b[0;34m)\u001b[0m\u001b[0;34m\u001b[0m\u001b[0;34m\u001b[0m\u001b[0m\n\u001b[1;32m    106\u001b[0m                 \u001b[0;32melse\u001b[0m\u001b[0;34m:\u001b[0m\u001b[0;34m\u001b[0m\u001b[0;34m\u001b[0m\u001b[0m\n\u001b[0;32m--> 107\u001b[0;31m                     \u001b[0mdenom\u001b[0m \u001b[0;34m=\u001b[0m \u001b[0;34m(\u001b[0m\u001b[0mexp_avg_sq\u001b[0m\u001b[0;34m.\u001b[0m\u001b[0msqrt\u001b[0m\u001b[0;34m(\u001b[0m\u001b[0;34m)\u001b[0m \u001b[0;34m/\u001b[0m \u001b[0mmath\u001b[0m\u001b[0;34m.\u001b[0m\u001b[0msqrt\u001b[0m\u001b[0;34m(\u001b[0m\u001b[0mbias_correction2\u001b[0m\u001b[0;34m)\u001b[0m\u001b[0;34m)\u001b[0m\u001b[0;34m.\u001b[0m\u001b[0madd_\u001b[0m\u001b[0;34m(\u001b[0m\u001b[0mgroup\u001b[0m\u001b[0;34m[\u001b[0m\u001b[0;34m'eps'\u001b[0m\u001b[0;34m]\u001b[0m\u001b[0;34m)\u001b[0m\u001b[0;34m\u001b[0m\u001b[0;34m\u001b[0m\u001b[0m\n\u001b[0m\u001b[1;32m    108\u001b[0m \u001b[0;34m\u001b[0m\u001b[0m\n\u001b[1;32m    109\u001b[0m                 \u001b[0mstep_size\u001b[0m \u001b[0;34m=\u001b[0m \u001b[0mgroup\u001b[0m\u001b[0;34m[\u001b[0m\u001b[0;34m'lr'\u001b[0m\u001b[0;34m]\u001b[0m \u001b[0;34m/\u001b[0m \u001b[0mbias_correction1\u001b[0m\u001b[0;34m\u001b[0m\u001b[0;34m\u001b[0m\u001b[0m\n",
      "\u001b[0;31mKeyboardInterrupt\u001b[0m: "
     ]
    }
   ],
   "source": [
    "t = time.time()\n",
    "predictions = pd.DataFrame()\n",
    "transform = ImageTransform(config['SIZE'], config['UNIFORM_AUGMENT'])\n",
    "\n",
    "skf = KFold(n_splits=config['NUM_FOLDS'], shuffle=True, random_state=SEED)\n",
    "for i, (idxT,idxV) in enumerate(skf.split(np.arange(15))):\n",
    "    t_fold = time.time()\n",
    "    tr = train.loc[train.tfrecord.isin(idxT) | (train.tfrecord >= 20)]\n",
    "    va = train.loc[train.tfrecord.isin(idxV)]\n",
    "    tr.reset_index(drop=True, inplace=True)\n",
    "    va.reset_index(drop=True, inplace=True)\n",
    "\n",
    "    # create datasets\n",
    "    dataset_train = MelanomaDataset(\"../data/internal/train\", \n",
    "                                    tr, \n",
    "                                    transform=transform, \n",
    "                                    phase='train', \n",
    "                                    external_base_dir='../data/external/train')\n",
    "    dataset_valid = MelanomaDataset(\"../data/internal/train\", va, transform=transform, phase='valid')\n",
    "    \n",
    "    # load a pretrained model\n",
    "    net = load_model(config['MODEL'], 2)\n",
    "\n",
    "    # define a loss function\n",
    "    criterion = nn.CrossEntropyLoss()\n",
    "\n",
    "    # define an optimizer\n",
    "    optimizer = optim.Adam(net.parameters(), lr=config['LEARNING_RATE'])\n",
    "\n",
    "    # define a scheduler\n",
    "    scheduler = ReduceLROnPlateau(optimizer=optimizer, mode='max', patience=2, factor=0.2)\n",
    "\n",
    "    # create a sampler\n",
    "    sampler = create_weighted_random_sampler(tr)\n",
    "\n",
    "    # train the network\n",
    "    print(f\"---- fold: {i + 1} ------------\")\n",
    "    train_model(\n",
    "        f\"{config['MODEL']}_{i + 1}\",\n",
    "        dataset_train,\n",
    "        dataset_valid,\n",
    "        config['BATCH_SIZE'],\n",
    "        net,\n",
    "        criterion,\n",
    "        optimizer,\n",
    "        scheduler,\n",
    "        config['NUM_EPOCHS'],\n",
    "        config['FREEZED_EPOCHS'],\n",
    "        config['INPUT_DIR'],\n",
    "        config['NUM_WORKERS'],\n",
    "        sampler,\n",
    "        config['DEVICE'],\n",
    "        config['EARLY_STOPPING']\n",
    "    )\n",
    "\n",
    "    # predict on test dataset\n",
    "    test['target'] = 0\n",
    "    dataset_test = MelanomaDataset(\"../data/internal/test\", test, transform=transform, phase='test')\n",
    "    tta_time = time.time()\n",
    "    predictions = get_predictions(dataset_test, \n",
    "                                  config[\"BATCH_SIZE\"], \n",
    "                                  net, \n",
    "                                  config[\"TTA\"], \n",
    "                                  predictions, \n",
    "                                  config[\"DEVICE\"])\n",
    "    print(f\"TTA took {round(time.time() - tta_time, 2)}\")\n",
    "    predictions.to_csv(f'../submissions/{config[\"MODEL\"]}_fold{i+1}.csv')\n",
    "    print(f\"fold took {round(time.time() - t_fold, 2)}\")\n",
    "    \n",
    "# output\n",
    "sub['target'] = predictions.mean(axis=1)\n",
    "sub.to_csv(f\"../submissions/submission{config['MODEL']}.csv\", index=False)\n",
    "print(f\"total time: {round(time.time() - t, 4)}\")"
   ]
  },
  {
   "cell_type": "markdown",
   "metadata": {},
   "source": []
  },
  {
   "cell_type": "code",
   "execution_count": null,
   "metadata": {},
   "outputs": [],
   "source": []
  }
 ],
 "metadata": {
  "kernelspec": {
   "display_name": "Python 3",
   "language": "python",
   "name": "python3"
  },
  "language_info": {
   "codemirror_mode": {
    "name": "ipython",
    "version": 3
   },
   "file_extension": ".py",
   "mimetype": "text/x-python",
   "name": "python",
   "nbconvert_exporter": "python",
   "pygments_lexer": "ipython3",
   "version": "3.8.0"
  }
 },
 "nbformat": 4,
 "nbformat_minor": 4
}
